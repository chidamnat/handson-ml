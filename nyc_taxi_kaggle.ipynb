{
 "cells": [
  {
   "cell_type": "markdown",
   "metadata": {
    "_uuid": "7de29dba02caba31737e3135514199f9adda5a6d"
   },
   "source": [
    "NYC Taxi data for predicting the trip duration"
   ]
  },
  {
   "cell_type": "code",
   "execution_count": 49,
   "metadata": {
    "_uuid": "324bb2dd711bbc00a95d2e6a7265deacbb5ef012"
   },
   "outputs": [],
   "source": [
    "import os\n",
    "import pandas as pd\n",
    "import numpy as np\n",
    "import matplotlib.pyplot as plt\n",
    "%matplotlib inline"
   ]
  },
  {
   "cell_type": "code",
   "execution_count": 50,
   "metadata": {
    "_uuid": "49805352d0483d4dfa74d0b1bc1254fd3fa4e588"
   },
   "outputs": [],
   "source": [
    "DATA_PATH = \"../data/nyc-taxi-trip-duration\"\n",
    "TRAIN_FILE_PATH = os.path.join(DATA_PATH, \"train.csv\")\n",
    "TEST_FILE_PATH = os.path.join(DATA_PATH, \"test.csv\")\n",
    "SAMPLE_SUB_FILE_PATH = os.path.join(DATA_PATH, \"sample_submission.csv\")\n",
    "SUB_FILE_PATH = os.path.join(DATA_PATH, \"submission.csv\")"
   ]
  },
  {
   "cell_type": "code",
   "execution_count": 51,
   "metadata": {
    "_uuid": "ae9be3225c37a794dd8f53782b54eefaac2ea82a"
   },
   "outputs": [],
   "source": [
    "train = pd.read_csv(TRAIN_FILE_PATH, index_col=\"id\", parse_dates=[\"pickup_datetime\", \"dropoff_datetime\"])"
   ]
  },
  {
   "cell_type": "code",
   "execution_count": 52,
   "metadata": {
    "_uuid": "de22d95fec03a8c46bd9e295ba2e346e54020cd2"
   },
   "outputs": [
    {
     "data": {
      "text/html": [
       "<div>\n",
       "<style scoped>\n",
       "    .dataframe tbody tr th:only-of-type {\n",
       "        vertical-align: middle;\n",
       "    }\n",
       "\n",
       "    .dataframe tbody tr th {\n",
       "        vertical-align: top;\n",
       "    }\n",
       "\n",
       "    .dataframe thead th {\n",
       "        text-align: right;\n",
       "    }\n",
       "</style>\n",
       "<table border=\"1\" class=\"dataframe\">\n",
       "  <thead>\n",
       "    <tr style=\"text-align: right;\">\n",
       "      <th></th>\n",
       "      <th>vendor_id</th>\n",
       "      <th>pickup_datetime</th>\n",
       "      <th>dropoff_datetime</th>\n",
       "      <th>passenger_count</th>\n",
       "      <th>pickup_longitude</th>\n",
       "      <th>pickup_latitude</th>\n",
       "      <th>dropoff_longitude</th>\n",
       "      <th>dropoff_latitude</th>\n",
       "      <th>store_and_fwd_flag</th>\n",
       "      <th>trip_duration</th>\n",
       "    </tr>\n",
       "    <tr>\n",
       "      <th>id</th>\n",
       "      <th></th>\n",
       "      <th></th>\n",
       "      <th></th>\n",
       "      <th></th>\n",
       "      <th></th>\n",
       "      <th></th>\n",
       "      <th></th>\n",
       "      <th></th>\n",
       "      <th></th>\n",
       "      <th></th>\n",
       "    </tr>\n",
       "  </thead>\n",
       "  <tbody>\n",
       "    <tr>\n",
       "      <th>id2875421</th>\n",
       "      <td>2</td>\n",
       "      <td>2016-03-14 17:24:55</td>\n",
       "      <td>2016-03-14 17:32:30</td>\n",
       "      <td>1</td>\n",
       "      <td>-73.982155</td>\n",
       "      <td>40.767937</td>\n",
       "      <td>-73.964630</td>\n",
       "      <td>40.765602</td>\n",
       "      <td>N</td>\n",
       "      <td>455</td>\n",
       "    </tr>\n",
       "    <tr>\n",
       "      <th>id2377394</th>\n",
       "      <td>1</td>\n",
       "      <td>2016-06-12 00:43:35</td>\n",
       "      <td>2016-06-12 00:54:38</td>\n",
       "      <td>1</td>\n",
       "      <td>-73.980415</td>\n",
       "      <td>40.738564</td>\n",
       "      <td>-73.999481</td>\n",
       "      <td>40.731152</td>\n",
       "      <td>N</td>\n",
       "      <td>663</td>\n",
       "    </tr>\n",
       "    <tr>\n",
       "      <th>id3858529</th>\n",
       "      <td>2</td>\n",
       "      <td>2016-01-19 11:35:24</td>\n",
       "      <td>2016-01-19 12:10:48</td>\n",
       "      <td>1</td>\n",
       "      <td>-73.979027</td>\n",
       "      <td>40.763939</td>\n",
       "      <td>-74.005333</td>\n",
       "      <td>40.710087</td>\n",
       "      <td>N</td>\n",
       "      <td>2124</td>\n",
       "    </tr>\n",
       "    <tr>\n",
       "      <th>id3504673</th>\n",
       "      <td>2</td>\n",
       "      <td>2016-04-06 19:32:31</td>\n",
       "      <td>2016-04-06 19:39:40</td>\n",
       "      <td>1</td>\n",
       "      <td>-74.010040</td>\n",
       "      <td>40.719971</td>\n",
       "      <td>-74.012268</td>\n",
       "      <td>40.706718</td>\n",
       "      <td>N</td>\n",
       "      <td>429</td>\n",
       "    </tr>\n",
       "    <tr>\n",
       "      <th>id2181028</th>\n",
       "      <td>2</td>\n",
       "      <td>2016-03-26 13:30:55</td>\n",
       "      <td>2016-03-26 13:38:10</td>\n",
       "      <td>1</td>\n",
       "      <td>-73.973053</td>\n",
       "      <td>40.793209</td>\n",
       "      <td>-73.972923</td>\n",
       "      <td>40.782520</td>\n",
       "      <td>N</td>\n",
       "      <td>435</td>\n",
       "    </tr>\n",
       "  </tbody>\n",
       "</table>\n",
       "</div>"
      ],
      "text/plain": [
       "           vendor_id     pickup_datetime    dropoff_datetime  passenger_count  \\\n",
       "id                                                                              \n",
       "id2875421          2 2016-03-14 17:24:55 2016-03-14 17:32:30                1   \n",
       "id2377394          1 2016-06-12 00:43:35 2016-06-12 00:54:38                1   \n",
       "id3858529          2 2016-01-19 11:35:24 2016-01-19 12:10:48                1   \n",
       "id3504673          2 2016-04-06 19:32:31 2016-04-06 19:39:40                1   \n",
       "id2181028          2 2016-03-26 13:30:55 2016-03-26 13:38:10                1   \n",
       "\n",
       "           pickup_longitude  pickup_latitude  dropoff_longitude  \\\n",
       "id                                                                \n",
       "id2875421        -73.982155        40.767937         -73.964630   \n",
       "id2377394        -73.980415        40.738564         -73.999481   \n",
       "id3858529        -73.979027        40.763939         -74.005333   \n",
       "id3504673        -74.010040        40.719971         -74.012268   \n",
       "id2181028        -73.973053        40.793209         -73.972923   \n",
       "\n",
       "           dropoff_latitude store_and_fwd_flag  trip_duration  \n",
       "id                                                             \n",
       "id2875421         40.765602                  N            455  \n",
       "id2377394         40.731152                  N            663  \n",
       "id3858529         40.710087                  N           2124  \n",
       "id3504673         40.706718                  N            429  \n",
       "id2181028         40.782520                  N            435  "
      ]
     },
     "execution_count": 52,
     "metadata": {},
     "output_type": "execute_result"
    }
   ],
   "source": [
    "train.head()"
   ]
  },
  {
   "cell_type": "code",
   "execution_count": 53,
   "metadata": {
    "_uuid": "4e856a65b5b0f6cd29b205cc43847fc1c979e9bf"
   },
   "outputs": [
    {
     "name": "stdout",
     "output_type": "stream",
     "text": [
      "<class 'pandas.core.frame.DataFrame'>\n",
      "Index: 1458644 entries, id2875421 to id1209952\n",
      "Data columns (total 10 columns):\n",
      "vendor_id             1458644 non-null int64\n",
      "pickup_datetime       1458644 non-null datetime64[ns]\n",
      "dropoff_datetime      1458644 non-null datetime64[ns]\n",
      "passenger_count       1458644 non-null int64\n",
      "pickup_longitude      1458644 non-null float64\n",
      "pickup_latitude       1458644 non-null float64\n",
      "dropoff_longitude     1458644 non-null float64\n",
      "dropoff_latitude      1458644 non-null float64\n",
      "store_and_fwd_flag    1458644 non-null object\n",
      "trip_duration         1458644 non-null int64\n",
      "dtypes: datetime64[ns](2), float64(4), int64(3), object(1)\n",
      "memory usage: 122.4+ MB\n"
     ]
    }
   ],
   "source": [
    "train.info()"
   ]
  },
  {
   "cell_type": "code",
   "execution_count": 54,
   "metadata": {
    "_uuid": "d9c9b0c4149385ba9c9940943a5c3d5d672464a4"
   },
   "outputs": [
    {
     "data": {
      "text/html": [
       "<div>\n",
       "<style scoped>\n",
       "    .dataframe tbody tr th:only-of-type {\n",
       "        vertical-align: middle;\n",
       "    }\n",
       "\n",
       "    .dataframe tbody tr th {\n",
       "        vertical-align: top;\n",
       "    }\n",
       "\n",
       "    .dataframe thead th {\n",
       "        text-align: right;\n",
       "    }\n",
       "</style>\n",
       "<table border=\"1\" class=\"dataframe\">\n",
       "  <thead>\n",
       "    <tr style=\"text-align: right;\">\n",
       "      <th></th>\n",
       "      <th>vendor_id</th>\n",
       "      <th>passenger_count</th>\n",
       "      <th>pickup_longitude</th>\n",
       "      <th>pickup_latitude</th>\n",
       "      <th>dropoff_longitude</th>\n",
       "      <th>dropoff_latitude</th>\n",
       "      <th>trip_duration</th>\n",
       "    </tr>\n",
       "  </thead>\n",
       "  <tbody>\n",
       "    <tr>\n",
       "      <th>count</th>\n",
       "      <td>1.458644e+06</td>\n",
       "      <td>1.458644e+06</td>\n",
       "      <td>1.458644e+06</td>\n",
       "      <td>1.458644e+06</td>\n",
       "      <td>1.458644e+06</td>\n",
       "      <td>1.458644e+06</td>\n",
       "      <td>1.458644e+06</td>\n",
       "    </tr>\n",
       "    <tr>\n",
       "      <th>mean</th>\n",
       "      <td>1.534950e+00</td>\n",
       "      <td>1.664530e+00</td>\n",
       "      <td>-7.397349e+01</td>\n",
       "      <td>4.075092e+01</td>\n",
       "      <td>-7.397342e+01</td>\n",
       "      <td>4.075180e+01</td>\n",
       "      <td>9.594923e+02</td>\n",
       "    </tr>\n",
       "    <tr>\n",
       "      <th>std</th>\n",
       "      <td>4.987772e-01</td>\n",
       "      <td>1.314242e+00</td>\n",
       "      <td>7.090186e-02</td>\n",
       "      <td>3.288119e-02</td>\n",
       "      <td>7.064327e-02</td>\n",
       "      <td>3.589056e-02</td>\n",
       "      <td>5.237432e+03</td>\n",
       "    </tr>\n",
       "    <tr>\n",
       "      <th>min</th>\n",
       "      <td>1.000000e+00</td>\n",
       "      <td>0.000000e+00</td>\n",
       "      <td>-1.219333e+02</td>\n",
       "      <td>3.435970e+01</td>\n",
       "      <td>-1.219333e+02</td>\n",
       "      <td>3.218114e+01</td>\n",
       "      <td>1.000000e+00</td>\n",
       "    </tr>\n",
       "    <tr>\n",
       "      <th>25%</th>\n",
       "      <td>1.000000e+00</td>\n",
       "      <td>1.000000e+00</td>\n",
       "      <td>-7.399187e+01</td>\n",
       "      <td>4.073735e+01</td>\n",
       "      <td>-7.399133e+01</td>\n",
       "      <td>4.073588e+01</td>\n",
       "      <td>3.970000e+02</td>\n",
       "    </tr>\n",
       "    <tr>\n",
       "      <th>50%</th>\n",
       "      <td>2.000000e+00</td>\n",
       "      <td>1.000000e+00</td>\n",
       "      <td>-7.398174e+01</td>\n",
       "      <td>4.075410e+01</td>\n",
       "      <td>-7.397975e+01</td>\n",
       "      <td>4.075452e+01</td>\n",
       "      <td>6.620000e+02</td>\n",
       "    </tr>\n",
       "    <tr>\n",
       "      <th>75%</th>\n",
       "      <td>2.000000e+00</td>\n",
       "      <td>2.000000e+00</td>\n",
       "      <td>-7.396733e+01</td>\n",
       "      <td>4.076836e+01</td>\n",
       "      <td>-7.396301e+01</td>\n",
       "      <td>4.076981e+01</td>\n",
       "      <td>1.075000e+03</td>\n",
       "    </tr>\n",
       "    <tr>\n",
       "      <th>max</th>\n",
       "      <td>2.000000e+00</td>\n",
       "      <td>9.000000e+00</td>\n",
       "      <td>-6.133553e+01</td>\n",
       "      <td>5.188108e+01</td>\n",
       "      <td>-6.133553e+01</td>\n",
       "      <td>4.392103e+01</td>\n",
       "      <td>3.526282e+06</td>\n",
       "    </tr>\n",
       "  </tbody>\n",
       "</table>\n",
       "</div>"
      ],
      "text/plain": [
       "          vendor_id  passenger_count  pickup_longitude  pickup_latitude  \\\n",
       "count  1.458644e+06     1.458644e+06      1.458644e+06     1.458644e+06   \n",
       "mean   1.534950e+00     1.664530e+00     -7.397349e+01     4.075092e+01   \n",
       "std    4.987772e-01     1.314242e+00      7.090186e-02     3.288119e-02   \n",
       "min    1.000000e+00     0.000000e+00     -1.219333e+02     3.435970e+01   \n",
       "25%    1.000000e+00     1.000000e+00     -7.399187e+01     4.073735e+01   \n",
       "50%    2.000000e+00     1.000000e+00     -7.398174e+01     4.075410e+01   \n",
       "75%    2.000000e+00     2.000000e+00     -7.396733e+01     4.076836e+01   \n",
       "max    2.000000e+00     9.000000e+00     -6.133553e+01     5.188108e+01   \n",
       "\n",
       "       dropoff_longitude  dropoff_latitude  trip_duration  \n",
       "count       1.458644e+06      1.458644e+06   1.458644e+06  \n",
       "mean       -7.397342e+01      4.075180e+01   9.594923e+02  \n",
       "std         7.064327e-02      3.589056e-02   5.237432e+03  \n",
       "min        -1.219333e+02      3.218114e+01   1.000000e+00  \n",
       "25%        -7.399133e+01      4.073588e+01   3.970000e+02  \n",
       "50%        -7.397975e+01      4.075452e+01   6.620000e+02  \n",
       "75%        -7.396301e+01      4.076981e+01   1.075000e+03  \n",
       "max        -6.133553e+01      4.392103e+01   3.526282e+06  "
      ]
     },
     "execution_count": 54,
     "metadata": {},
     "output_type": "execute_result"
    }
   ],
   "source": [
    "train.describe()"
   ]
  },
  {
   "cell_type": "markdown",
   "metadata": {
    "_uuid": "33076042b7c5f954d6184ab5994d18d183a79d20"
   },
   "source": [
    "#### Creation of train and validation set"
   ]
  },
  {
   "cell_type": "code",
   "execution_count": 55,
   "metadata": {
    "_uuid": "32d57eb1582afc6b1b09bb61322fb6b561d2f1d1"
   },
   "outputs": [
    {
     "name": "stdout",
     "output_type": "stream",
     "text": [
      "1166915 291729\n"
     ]
    }
   ],
   "source": [
    "from sklearn.model_selection import train_test_split\n",
    "\n",
    "train_set, val_set = train_test_split(train, test_size=0.2, random_state=42)\n",
    "print(len(train_set), len(val_set))\n",
    "train = train_set"
   ]
  },
  {
   "cell_type": "markdown",
   "metadata": {
    "_uuid": "42e31f68d1047137832f6e843eca91fcfec06ed9"
   },
   "source": [
    "#### Boxplots"
   ]
  },
  {
   "cell_type": "code",
   "execution_count": 56,
   "metadata": {
    "_uuid": "78716f612130fb7db3f4ede3eaa2a74e569d2627"
   },
   "outputs": [
    {
     "data": {
      "text/plain": [
       "<matplotlib.axes._subplots.AxesSubplot at 0xb8582278>"
      ]
     },
     "execution_count": 56,
     "metadata": {},
     "output_type": "execute_result"
    },
    {
     "data": {
      "image/png": "[encoded data removed]",
      "text/plain": [
       "<Figure size 1080x432 with 1 Axes>"
      ]
     },
     "metadata": {},
     "output_type": "display_data"
    }
   ],
   "source": [
    "plt.subplots(figsize=(15, 6))\n",
    "train.boxplot()"
   ]
  },
  {
   "cell_type": "markdown",
   "metadata": {
    "_uuid": "c5d63579feea28337758f2b3362482d628ec5e5d"
   },
   "source": [
    "Boxplots reveals the trip_duration is has some extreme outliers.\n",
    "Lets build a Transformer to clip these outliers"
   ]
  },
  {
   "cell_type": "code",
   "execution_count": 57,
   "metadata": {
    "_uuid": "0f5ee1e5cbe54e075cad73a299e3739d9baf14d8"
   },
   "outputs": [
    {
     "data": {
      "text/plain": [
       "<matplotlib.axes._subplots.AxesSubplot at 0x62532160>"
      ]
     },
     "execution_count": 57,
     "metadata": {},
     "output_type": "execute_result"
    },
    {
     "data": {
      "image/png": "[encoded data removed]",
      "text/plain": [
       "<Figure size 1080x432 with 1 Axes>"
      ]
     },
     "metadata": {},
     "output_type": "display_data"
    }
   ],
   "source": [
    "from sklearn.base import BaseEstimator, TransformerMixin\n",
    "\n",
    "class ClipOutliers(BaseEstimator, TransformerMixin):\n",
    "    def __init__(self, attribute_name, lower_limit=None, upper_limit=None):\n",
    "        self.attribute_name = attribute_name\n",
    "        self.lower_limit = lower_limit\n",
    "        self.upper_limit = upper_limit\n",
    "        \n",
    "    def fit(self, df, y=None):\n",
    "        return self\n",
    "    \n",
    "    def transform(self, df, y=None):\n",
    "        if self.attribute_name not in df.columns:\n",
    "            return df\n",
    "        elif self.lower_limit != None:\n",
    "            return df[df[self.attribute_name] > self.lower_limit]\n",
    "        elif self.upper_limit != None:\n",
    "            return df[df[self.attribute_name] < self.upper_limit]\n",
    "        else:\n",
    "            return df\n",
    "        \n",
    "clip_outliers_in_trip_duration = ClipOutliers(\"trip_duration\", lower_limit=None, upper_limit=6000)\n",
    "train_trip_duration_clipped = clip_outliers_in_trip_duration.fit_transform(train)\n",
    "clip_outliers_in_passenger_count = ClipOutliers(\"passenger_count\", lower_limit=0, upper_limit=None)\n",
    "train_clipped = clip_outliers_in_trip_duration.fit_transform(train_trip_duration_clipped)\n",
    "plt.subplots(figsize=(15, 6))\n",
    "train_clipped.boxplot()"
   ]
  },
  {
   "cell_type": "markdown",
   "metadata": {
    "_uuid": "7e4844114256d777052927784974ad098191e69a"
   },
   "source": [
    "#### Get a feel of the data with Histograms"
   ]
  },
  {
   "cell_type": "code",
   "execution_count": 58,
   "metadata": {
    "_uuid": "7f732d5c4496cedd423f4e65cbdd91d12535ccbf"
   },
   "outputs": [
    {
     "data": {
      "text/plain": [
       "array([[<matplotlib.axes._subplots.AxesSubplot object at 0x0000000026534588>,\n",
       "        <matplotlib.axes._subplots.AxesSubplot object at 0x00000000BD3F18D0>]],\n",
       "      dtype=object)"
      ]
     },
     "execution_count": 58,
     "metadata": {},
     "output_type": "execute_result"
    },
    {
     "data": {
      "image/png": "[encoded data removed]",
      "text/plain": [
       "<Figure size 1080x288 with 2 Axes>"
      ]
     },
     "metadata": {},
     "output_type": "display_data"
    }
   ],
   "source": [
    "train_clipped[[\"passenger_count\", \"vendor_id\"]].hist(bins=50, figsize=(15, 4))"
   ]
  },
  {
   "cell_type": "markdown",
   "metadata": {
    "_uuid": "c72756ce2d4752af15b710cd27401f493bba22fd"
   },
   "source": [
    "### Discover and visualize data"
   ]
  },
  {
   "cell_type": "code",
   "execution_count": 59,
   "metadata": {
    "_uuid": "abf8ac49cee68eddcc4663128ed9ecdecd62ac7d"
   },
   "outputs": [],
   "source": [
    "taxi = train"
   ]
  },
  {
   "cell_type": "code",
   "execution_count": 60,
   "metadata": {
    "_uuid": "d5b3a7e289fa98a217481c86e08603e6e80c801f"
   },
   "outputs": [
    {
     "data": {
      "text/plain": [
       "<matplotlib.legend.Legend at 0xb9ea78d0>"
      ]
     },
     "execution_count": 60,
     "metadata": {},
     "output_type": "execute_result"
    },
    {
     "data": {
      "image/png": "[encoded data removed]",
      "text/plain": [
       "<Figure size 720x504 with 2 Axes>"
      ]
     },
     "metadata": {},
     "output_type": "display_data"
    }
   ],
   "source": [
    "taxi.plot(kind='scatter', x=\"pickup_longitude\", y=\"pickup_latitude\", alpha=0.4,\n",
    "            s=taxi[\"trip_duration\"]/600, label=\"trip_duration\", figsize=(10,7),\n",
    "            c=taxi[\"trip_duration\"], cmap=plt.get_cmap(\"jet\"), colorbar=True,)\n",
    "plt.legend()"
   ]
  },
  {
   "cell_type": "code",
   "execution_count": 61,
   "metadata": {
    "_uuid": "ee6d414006535f230f5589972cf17b5c7779de5b"
   },
   "outputs": [
    {
     "data": {
      "image/png": "[encoded data removed]",
      "text/plain": [
       "<Figure size 1080x288 with 2 Axes>"
      ]
     },
     "metadata": {},
     "output_type": "display_data"
    }
   ],
   "source": [
    "# Visualizing the pickup and dropoff locations\n",
    "fig, axes = plt.subplots(1,2, sharex=True, sharey=True, figsize=(15,4))\n",
    "\n",
    "axes[0].scatter(x=taxi[\"pickup_longitude\"], y=taxi[\"pickup_latitude\"], alpha=0.3,c=taxi[\"trip_duration\"],\n",
    "                cmap=plt.get_cmap(\"jet\"),)\n",
    "axes[0].legend()\n",
    "axes[1].scatter(x=taxi[\"dropoff_longitude\"], y=taxi[\"dropoff_latitude\"], alpha=0.3,color=\"red\")\n",
    "axes[0].set_title(\"pickup location\")\n",
    "axes[0].set_xlabel(\"longitude\")\n",
    "axes[0].set_ylabel(\"latitude\")\n",
    "axes[1].set_xlabel(\"longitude\")\n",
    "axes[1].set_title(\"dropoff location\")\n",
    "plt.legend()\n",
    "plt.show()"
   ]
  },
  {
   "cell_type": "markdown",
   "metadata": {
    "_uuid": "0c0b6e7a6b9eb9d5fea7323faec0e55cdd8ab9fb"
   },
   "source": [
    "From the above plots, we could see that the pickup and dropoff locations are kind of clustered around.\n",
    "So one good feature could be utilizing this information (could be a distance measure from mean latitude and longitude). \n",
    "Also we see an increase in trip_time when the pickup location is farther from these darker center cluster"
   ]
  },
  {
   "cell_type": "code",
   "execution_count": 62,
   "metadata": {
    "_uuid": "ce3c4d1728e49de6ad2261b781366a81a0e6f788"
   },
   "outputs": [
    {
     "name": "stdout",
     "output_type": "stream",
     "text": [
      "pickup_mean_latitude = 40.75092996784608\n",
      "pickup_mean_longitude = -73.97344649695415\n",
      "dropoff_mean_latitude = 40.75093323520318\n",
      "dropoff_mean_longitude = -73.97345960164967\n"
     ]
    }
   ],
   "source": [
    "pickup_mean_latitude = taxi[(taxi[\"pickup_latitude\"] > 40.0) & (taxi[\"pickup_latitude\"] < 42.0)][\"pickup_latitude\"].mean()\n",
    "pickup_mean_longitude = taxi[(taxi[\"pickup_longitude\"] > -74.2) & (taxi[\"pickup_longitude\"] < -73.5)][\"pickup_longitude\"].mean()\n",
    "print(\"pickup_mean_latitude = {}\".format(pickup_mean_latitude))\n",
    "print(\"pickup_mean_longitude = {}\".format(pickup_mean_longitude))\n",
    "\n",
    "dropoff_mean_latitude = taxi[(taxi[\"dropoff_latitude\"] > 40.0) & (taxi[\"dropoff_latitude\"] < 42.0)][\"pickup_latitude\"].mean()\n",
    "dropoff_mean_longitude = taxi[(taxi[\"dropoff_longitude\"] > -74.2) & (taxi[\"dropoff_longitude\"] < -73.5)][\"pickup_longitude\"].mean()\n",
    "print(\"dropoff_mean_latitude = {}\".format(dropoff_mean_latitude))\n",
    "print(\"dropoff_mean_longitude = {}\".format(dropoff_mean_longitude))\n",
    "\n"
   ]
  },
  {
   "cell_type": "code",
   "execution_count": 63,
   "metadata": {
    "_uuid": "5176fc7de188ef65518f825edd69f8811a2d36a0"
   },
   "outputs": [
    {
     "data": {
      "image/png": "[encoded data removed]",
      "text/plain": [
       "<Figure size 1080x720 with 4 Axes>"
      ]
     },
     "metadata": {},
     "output_type": "display_data"
    }
   ],
   "source": [
    "# Histogram of pickup and dropoff locations (latitudes and longitudes)\n",
    "fig, axes = plt.subplots(2,2, sharex=False, sharey=False, figsize=(15,10))\n",
    "pickup_longitude_spread = taxi[(taxi[\"pickup_longitude\"] > -74.2) & (taxi[\"pickup_longitude\"] < -73.5)][\"pickup_longitude\"]\n",
    "axes[0,0].hist(pickup_longitude_spread, bins=50, color=\"blue\")\n",
    "axes[0,0].set_title(\"pickup longitude distribution\")\n",
    "\n",
    "pickup_latitude_spread = (taxi[(taxi[\"pickup_latitude\"] > 40.0) & (taxi[\"pickup_latitude\"] < 42.0)][\"pickup_latitude\"])\n",
    "axes[0,1].hist(pickup_latitude_spread, bins=50, color=\"blue\")\n",
    "axes[0,1].set_title(\"pickup latitude distribution\")\n",
    "\n",
    "dropoff_latitude_spread = (taxi[(taxi[\"dropoff_latitude\"] > 40.0) & (taxi[\"dropoff_latitude\"] < 42.0)][\"dropoff_latitude\"])\n",
    "axes[1,0].hist(dropoff_latitude_spread, bins=50, color=\"red\")\n",
    "axes[1,0].set_title(\"dropoff latitude distribution\")\n",
    "\n",
    "dropoff_longitude_spread = taxi[(taxi[\"dropoff_longitude\"] > -74.2) & (taxi[\"dropoff_longitude\"] < -73.5)][\"dropoff_longitude\"]\n",
    "axes[1,1].hist(dropoff_longitude_spread, bins=50, color=\"red\")\n",
    "axes[1,1].set_title(\"dropoff longitude distribution\")\n",
    "plt.show()"
   ]
  },
  {
   "cell_type": "code",
   "execution_count": 64,
   "metadata": {
    "_uuid": "fe7521f24befdc2379c2860978ec5fca7874adab"
   },
   "outputs": [],
   "source": [
    "# Building correlation matrix\n",
    "def get_corr_info(df, feature=\"trip_duration\"):\n",
    "    corr_matrix = df.corr()\n",
    "    return corr_matrix[\"trip_duration\"].sort_values(ascending=False)"
   ]
  },
  {
   "cell_type": "markdown",
   "metadata": {
    "_uuid": "22f837388e3b1027eaac6b9c04306a0145433e08"
   },
   "source": [
    "We don't find much correlation on the existing features with respect to trip_time"
   ]
  },
  {
   "cell_type": "markdown",
   "metadata": {
    "_uuid": "4992f1914a9be78ae7bbe3b7dd9bcdd4d2769b59"
   },
   "source": [
    "### Preparing the data"
   ]
  },
  {
   "cell_type": "markdown",
   "metadata": {
    "_uuid": "62c85bfb7af1b32a7db7865e7c97b52a15b66f7f"
   },
   "source": [
    "#### Creating DateAttribsAdder transformer"
   ]
  },
  {
   "cell_type": "code",
   "execution_count": 65,
   "metadata": {
    "_uuid": "0e7374256608bdf05612d2fbe33cc32f457cd5c1"
   },
   "outputs": [
    {
     "name": "stdout",
     "output_type": "stream",
     "text": [
      "           vendor_id  passenger_count  pickup_longitude  pickup_latitude  \\\n",
      "id                                                                         \n",
      "id0458976          2                1        -73.862762        40.768822   \n",
      "id0434613          2                1        -73.958038        40.783237   \n",
      "id3809234          2                1        -73.969460        40.785519   \n",
      "id1203705          1                1        -73.981743        40.736549   \n",
      "id1896645          2                1        -73.977913        40.752609   \n",
      "\n",
      "           dropoff_longitude  dropoff_latitude store_and_fwd_flag  \\\n",
      "id                                                                  \n",
      "id0458976         -73.891701         40.746689                  N   \n",
      "id0434613         -73.975510         40.760853                  N   \n",
      "id3809234         -73.989243         40.771748                  N   \n",
      "id1203705         -73.998352         40.726440                  N   \n",
      "id1896645         -73.975647         40.733139                  N   \n",
      "\n",
      "           trip_duration  month  week  weekday  day  hour  minute_of_the_day  \n",
      "id                                                                            \n",
      "id0458976           1133      6    26        2   29    18               1101  \n",
      "id0434613            887      4    17        0   25    13                783  \n",
      "id3809234            686      5    18        5    7    12                756  \n",
      "id1203705            818      5    19        5   14    18               1124  \n",
      "id1896645            951      4    14        6   10    22               1371  \n"
     ]
    }
   ],
   "source": [
    "import datetime as dt\n",
    "\n",
    "class DateAttribsAdder(BaseEstimator, TransformerMixin):\n",
    "    def __init__(self, date_field):\n",
    "        self.date_field = date_field\n",
    "        \n",
    "    def fit(self, X, y=None):\n",
    "        return self\n",
    "    \n",
    "    def transform(self, X, y=None):\n",
    "        X[\"month\"] = X.loc[:,self.date_field].dt.month\n",
    "        X[\"week\"] = X.loc[:,self.date_field].dt.week\n",
    "        X[\"weekday\"] = X.loc[:,self.date_field].dt.weekday\n",
    "        X[\"day\"] = X.loc[:,self.date_field].dt.day\n",
    "        X[\"hour\"] = X.loc[:,self.date_field].dt.hour\n",
    "        X[\"minute\"] = X.loc[:,self.date_field].dt.minute\n",
    "        X[\"minute_of_the_day\"] = X[\"hour\"] * 60 + X.loc[:,self.date_field].dt.minute \n",
    "        return X.drop([self.date_field, \"dropoff_datetime\", \"minute\"], axis=1, errors=\"ignore\")\n",
    "\n",
    "date_attribs_adder = DateAttribsAdder(\"pickup_datetime\")\n",
    "date_attribs_added = date_attribs_adder.transform(taxi)\n",
    "print(date_attribs_added.head())\n"
   ]
  },
  {
   "cell_type": "code",
   "execution_count": 66,
   "metadata": {
    "_uuid": "e4ce13001f4b17b6d1b587383e68a0ae6b61b989"
   },
   "outputs": [
    {
     "name": "stdout",
     "output_type": "stream",
     "text": [
      "[[0. 1. 1. 0.]\n",
      " [0. 1. 1. 0.]\n",
      " [0. 1. 1. 0.]\n",
      " ...\n",
      " [0. 1. 1. 0.]\n",
      " [1. 0. 1. 0.]\n",
      " [0. 1. 1. 0.]]\n"
     ]
    }
   ],
   "source": [
    "cat_attribs = [\"vendor_id\", \"store_and_fwd_flag\"]\n",
    "taxi_cat = taxi[cat_attribs]\n",
    "\n",
    "from sklearn.preprocessing import OneHotEncoder\n",
    "cat_encoder = OneHotEncoder()\n",
    "taxi_1hot = cat_encoder.fit_transform(taxi_cat)\n",
    "print(taxi_1hot.toarray())"
   ]
  },
  {
   "cell_type": "code",
   "execution_count": 67,
   "metadata": {
    "_uuid": "68120acd80d5ec1f77f89a177ba6bc034e176316"
   },
   "outputs": [
    {
     "data": {
      "image/png": "[encoded data removed]",
      "text/plain": [
       "<Figure size 432x288 with 1 Axes>"
      ]
     },
     "metadata": {},
     "output_type": "display_data"
    },
    {
     "name": "stdout",
     "output_type": "stream",
     "text": [
      "           vendor_id     pickup_datetime    dropoff_datetime  passenger_count  \\\n",
      "id                                                                              \n",
      "id0458976          2 2016-06-29 18:21:02 2016-06-29 18:39:55                1   \n",
      "id0434613          2 2016-04-25 13:03:26 2016-04-25 13:18:13                1   \n",
      "id3809234          2 2016-05-07 12:36:09 2016-05-07 12:47:35                1   \n",
      "id1203705          1 2016-05-14 18:44:17 2016-05-14 18:57:55                1   \n",
      "id1896645          2 2016-04-10 22:51:25 2016-04-10 23:07:16                1   \n",
      "\n",
      "           pickup_longitude  pickup_latitude  dropoff_longitude  \\\n",
      "id                                                                \n",
      "id0458976        -73.862762        40.768822         -73.891701   \n",
      "id0434613        -73.958038        40.783237         -73.975510   \n",
      "id3809234        -73.969460        40.785519         -73.989243   \n",
      "id1203705        -73.981743        40.736549         -73.998352   \n",
      "id1896645        -73.977913        40.752609         -73.975647   \n",
      "\n",
      "           dropoff_latitude store_and_fwd_flag  trip_duration  month  week  \\\n",
      "id                                                                           \n",
      "id0458976         40.746689                  N           1133      6    26   \n",
      "id0434613         40.760853                  N            887      4    17   \n",
      "id3809234         40.771748                  N            686      5    18   \n",
      "id1203705         40.726440                  N            818      5    19   \n",
      "id1896645         40.733139                  N            951      4    14   \n",
      "\n",
      "           weekday  day  hour  minute  minute_of_the_day  distance  \n",
      "id                                                                  \n",
      "id0458976        2   29    18      21               1101  3.464866  \n",
      "id0434613        0   25    13       3                783  2.892272  \n",
      "id3809234        5    7    12      36                756  2.263347  \n",
      "id1203705        5   14    18      44               1124  1.795593  \n",
      "id1896645        6   10    22      51               1371  2.174071  \n",
      "Wall time: 2.17 s\n"
     ]
    }
   ],
   "source": [
    "%%time\n",
    "from math import sin, cos, sqrt, atan2, radians\n",
    "\n",
    "class DistanceAttribsAdder(BaseEstimator, TransformerMixin):\n",
    "    def __init__(self, attrib_name = \"distance\"):\n",
    "        self.attrib_name = attrib_name\n",
    "        \n",
    "    def fit(self, df):\n",
    "        return self\n",
    "    \n",
    "    def transform(self, df, y=None):\n",
    "        R=6373.0 # approximate radius of earth in km\n",
    "        pickup_lat=np.radians(df['pickup_latitude'].values)\n",
    "        pickup_lon=np.radians(df['pickup_longitude'].values)\n",
    "        dropoff_lat=np.radians(df['dropoff_latitude'].values)\n",
    "        dropoff_lon=np.radians(df['dropoff_longitude'].values)\n",
    "        dlon = dropoff_lon - pickup_lon\n",
    "        dlat = dropoff_lat - pickup_lat\n",
    "        a = np.sin(dlat / 2)**2 + np.cos(pickup_lat) * np.cos(dropoff_lat) * np.sin(dlon / 2)**2\n",
    "        c = 2 * np.arctan2(np.sqrt(a), np.sqrt(1 - a))\n",
    "        df[\"distance\"] = R * c\n",
    "        df.boxplot(column=\"distance\", return_type=\"axes\");\n",
    "        plt.show()\n",
    "        return df\n",
    "        \n",
    "distance_attribs_adder = DistanceAttribsAdder()\n",
    "taxi_distance = distance_attribs_adder.transform(taxi)\n",
    "print(taxi_distance.head())\n",
    "\n",
    "# As we see outliers in the distance attribute, let's clip that out\n",
    "clip_outliers_in_distance = ClipOutliers(\"distance\", lower_limit=None, upper_limit=400)\n",
    "taxi = clip_outliers_in_distance.fit_transform(taxi_distance)"
   ]
  },
  {
   "cell_type": "code",
   "execution_count": 68,
   "metadata": {
    "_uuid": "438ad697740657abbe0cd3ee9afe9a9932d57b1c"
   },
   "outputs": [],
   "source": [
    "## Creating a Pandas DropFeature transformer which drops the attributes from DataFrame and converts to numpy array\n",
    "class DropFeature(BaseEstimator, TransformerMixin):\n",
    "    def __init__(self, attribute_names):\n",
    "        self.attribute_names = attribute_names\n",
    "        \n",
    "    def fit(self, X, y=None):\n",
    "        return self\n",
    "    \n",
    "    def transform(self, X):\n",
    "        return X.drop([self.attribute_names],axis=1,errors=\"ignore\").values"
   ]
  },
  {
   "cell_type": "code",
   "execution_count": 69,
   "metadata": {
    "_uuid": "4e403bd90a0681083d1f79512ec8783ee9a98852"
   },
   "outputs": [],
   "source": [
    "## Creating a Pandas FeatureSelector transformer which selects the attributes from DataFrame and converts to numpy array\n",
    "\n",
    "class FeatureSelector(BaseEstimator, TransformerMixin):\n",
    "    def __init__(self, attribute_names):\n",
    "        self.attribute_names = attribute_names\n",
    "        \n",
    "    def fit(self, X, y=None):\n",
    "        return self\n",
    "    \n",
    "    def transform(self, X):\n",
    "        return X[self.attribute_names].values"
   ]
  },
  {
   "cell_type": "code",
   "execution_count": 70,
   "metadata": {
    "_uuid": "59199afc719100296ddba9561475ee402f326e5b"
   },
   "outputs": [],
   "source": [
    "class DataFrameSelector(BaseEstimator, TransformerMixin):\n",
    "    def __init__(self, attribute_names):\n",
    "        self.attribute_names = attribute_names\n",
    "        \n",
    "    def fit(self, X, y=None):\n",
    "        return self\n",
    "    \n",
    "    def transform(self, X):\n",
    "        columns = X.columns\n",
    "        selected_features = [feature for feature in self.attribute_names if feature in columns ]\n",
    "        return X[selected_features]"
   ]
  },
  {
   "cell_type": "code",
   "execution_count": 71,
   "metadata": {
    "_uuid": "2f08c14c9147bc422b3b6b56eda9dfc384d76627"
   },
   "outputs": [],
   "source": [
    "class LogTransformer(BaseEstimator, TransformerMixin):\n",
    "    def __init__(self, attribute_name):\n",
    "        self.attribute_name = attribute_name\n",
    "        \n",
    "    def fit(self, X, y=None):\n",
    "        return self\n",
    "    \n",
    "    def transform(self, X, y=None):\n",
    "        X[self.attribute_name] = np.log(X[self.attribute_name].values)\n",
    "        return X"
   ]
  },
  {
   "cell_type": "code",
   "execution_count": 72,
   "metadata": {
    "_uuid": "75a32cd9e79d607bd0ec390c3763afb954d6589e"
   },
   "outputs": [],
   "source": [
    "# categorical pipeline\n",
    "from sklearn.pipeline import Pipeline\n",
    "\n",
    "cat_pipeline = Pipeline([\n",
    "    ('selector_cat', FeatureSelector(cat_attribs)),\n",
    "    (\"cat_trans\", OneHotEncoder()),\n",
    "])\n"
   ]
  },
  {
   "cell_type": "code",
   "execution_count": 73,
   "metadata": {
    "_uuid": "5c81bd76c8820601a7d019103bd2a2fb945a3619"
   },
   "outputs": [],
   "source": [
    "num_attribs = ['pickup_datetime','passenger_count',\n",
    " 'pickup_longitude','pickup_latitude','dropoff_longitude','dropoff_latitude',\n",
    " 'trip_duration']\n",
    "\n",
    "# Outlier rows removal piepline\n",
    "outlier_pipeline = Pipeline([    \n",
    "    (\"clip_trip_duration\", ClipOutliers(\"trip_duration\", lower_limit=None, upper_limit=6000)),\n",
    "    (\"clip_passenger_count\", ClipOutliers(\"passenger_count\", lower_limit=0, upper_limit=None)),\n",
    "    (\"clip_pickup_longitude\", ClipOutliers(\"pickup_longitude\", lower_limit=-90, upper_limit=None)),\n",
    "    (\"clip_pickup_latitude\", ClipOutliers(\"pickup_latitude\", lower_limit=None, upper_limit=50)),\n",
    "    (\"dist_trans\", DistanceAttribsAdder()),\n",
    "    (\"clip_distance\", ClipOutliers(\"distance\", lower_limit=None, upper_limit=400)),\n",
    "])\n",
    "\n",
    "# numerical attributes pipeline\n",
    "num_pipeline = Pipeline([\n",
    "    ('selector_num', DataFrameSelector(num_attribs)),\n",
    "    (\"date_tranform\", DateAttribsAdder(\"pickup_datetime\")),\n",
    "    (\"feature_dropper\", DropFeature(\"trip_duration\"))\n",
    "])"
   ]
  },
  {
   "cell_type": "code",
   "execution_count": 74,
   "metadata": {
    "_uuid": "eb22a7bf12484583885307a2536c10d0edfd7f7e"
   },
   "outputs": [],
   "source": [
    "# label creation pipeline\n",
    "label_pipeline = Pipeline([\n",
    "    (\"clip_trip_duration\", ClipOutliers(\"trip_duration\", lower_limit=None, upper_limit=6000)),\n",
    "    ('trip_log_transformer', LogTransformer(\"trip_duration\")),\n",
    "    (\"feature_selector\", FeatureSelector(\"trip_duration\"))\n",
    "])"
   ]
  },
  {
   "cell_type": "code",
   "execution_count": 75,
   "metadata": {
    "_uuid": "e880bb42e37122d074d013b9f43b8fef3133b0df"
   },
   "outputs": [],
   "source": [
    "# Create a Featureunion to join the two pipelines (numerical and categorical pipelines)\n",
    "\n",
    "from sklearn.pipeline import FeatureUnion\n",
    "full_pipeline = FeatureUnion(transformer_list=[\n",
    "    (\"num_pipeline\", num_pipeline),\n",
    "    (\"cat_pipeline\", cat_pipeline),\n",
    "])"
   ]
  },
  {
   "cell_type": "code",
   "execution_count": 76,
   "metadata": {
    "_uuid": "6e40d8416226373b76e0252c3e3c40e711a770e9"
   },
   "outputs": [
    {
     "data": {
      "image/png": "[encoded data removed]",
      "text/plain": [
       "<Figure size 432x288 with 1 Axes>"
      ]
     },
     "metadata": {},
     "output_type": "display_data"
    },
    {
     "name": "stderr",
     "output_type": "stream",
     "text": [
      "D:\\softwares\\Anaconda\\lib\\site-packages\\ipykernel_launcher.py:11: SettingWithCopyWarning: \n",
      "A value is trying to be set on a copy of a slice from a DataFrame.\n",
      "Try using .loc[row_indexer,col_indexer] = value instead\n",
      "\n",
      "See the caveats in the documentation: http://pandas.pydata.org/pandas-docs/stable/indexing.html#indexing-view-versus-copy\n",
      "  # This is added back by InteractiveShellApp.init_path()\n",
      "D:\\softwares\\Anaconda\\lib\\site-packages\\ipykernel_launcher.py:12: SettingWithCopyWarning: \n",
      "A value is trying to be set on a copy of a slice from a DataFrame.\n",
      "Try using .loc[row_indexer,col_indexer] = value instead\n",
      "\n",
      "See the caveats in the documentation: http://pandas.pydata.org/pandas-docs/stable/indexing.html#indexing-view-versus-copy\n",
      "  if sys.path[0] == '':\n",
      "D:\\softwares\\Anaconda\\lib\\site-packages\\ipykernel_launcher.py:13: SettingWithCopyWarning: \n",
      "A value is trying to be set on a copy of a slice from a DataFrame.\n",
      "Try using .loc[row_indexer,col_indexer] = value instead\n",
      "\n",
      "See the caveats in the documentation: http://pandas.pydata.org/pandas-docs/stable/indexing.html#indexing-view-versus-copy\n",
      "  del sys.path[0]\n",
      "D:\\softwares\\Anaconda\\lib\\site-packages\\ipykernel_launcher.py:14: SettingWithCopyWarning: \n",
      "A value is trying to be set on a copy of a slice from a DataFrame.\n",
      "Try using .loc[row_indexer,col_indexer] = value instead\n",
      "\n",
      "See the caveats in the documentation: http://pandas.pydata.org/pandas-docs/stable/indexing.html#indexing-view-versus-copy\n",
      "  \n",
      "D:\\softwares\\Anaconda\\lib\\site-packages\\ipykernel_launcher.py:15: SettingWithCopyWarning: \n",
      "A value is trying to be set on a copy of a slice from a DataFrame.\n",
      "Try using .loc[row_indexer,col_indexer] = value instead\n",
      "\n",
      "See the caveats in the documentation: http://pandas.pydata.org/pandas-docs/stable/indexing.html#indexing-view-versus-copy\n",
      "  from ipykernel import kernelapp as app\n",
      "D:\\softwares\\Anaconda\\lib\\site-packages\\ipykernel_launcher.py:16: SettingWithCopyWarning: \n",
      "A value is trying to be set on a copy of a slice from a DataFrame.\n",
      "Try using .loc[row_indexer,col_indexer] = value instead\n",
      "\n",
      "See the caveats in the documentation: http://pandas.pydata.org/pandas-docs/stable/indexing.html#indexing-view-versus-copy\n",
      "  app.launch_new_instance()\n",
      "D:\\softwares\\Anaconda\\lib\\site-packages\\ipykernel_launcher.py:17: SettingWithCopyWarning: \n",
      "A value is trying to be set on a copy of a slice from a DataFrame.\n",
      "Try using .loc[row_indexer,col_indexer] = value instead\n",
      "\n",
      "See the caveats in the documentation: http://pandas.pydata.org/pandas-docs/stable/indexing.html#indexing-view-versus-copy\n"
     ]
    },
    {
     "name": "stdout",
     "output_type": "stream",
     "text": [
      "(1164840, 15)\n"
     ]
    },
    {
     "data": {
      "text/plain": [
       "<1164840x15 sparse matrix of type '<class 'numpy.float64'>'\n",
       "\twith 14949440 stored elements in Compressed Sparse Row format>"
      ]
     },
     "execution_count": 76,
     "metadata": {},
     "output_type": "execute_result"
    }
   ],
   "source": [
    "# Feeding the outlier clipped transformed data into full_pipeline\n",
    "outliers_clipped = outlier_pipeline.fit_transform(train)\n",
    "taxi_prepared = full_pipeline.fit_transform(outliers_clipped)\n",
    "\n",
    "# Running the label_pipeline\n",
    "taxi_labels = label_pipeline.fit_transform(outliers_clipped)\n",
    "\n",
    "print(taxi_prepared.shape)\n",
    "taxi_prepared"
   ]
  },
  {
   "cell_type": "code",
   "execution_count": 77,
   "metadata": {
    "_uuid": "61e5e4020c61155076c5d0a90de7126eeb39b5c2"
   },
   "outputs": [
    {
     "data": {
      "image/png": "[encoded data removed]",
      "text/plain": [
       "<Figure size 432x288 with 1 Axes>"
      ]
     },
     "metadata": {},
     "output_type": "display_data"
    },
    {
     "name": "stderr",
     "output_type": "stream",
     "text": [
      "D:\\softwares\\Anaconda\\lib\\site-packages\\ipykernel_launcher.py:11: SettingWithCopyWarning: \n",
      "A value is trying to be set on a copy of a slice from a DataFrame.\n",
      "Try using .loc[row_indexer,col_indexer] = value instead\n",
      "\n",
      "See the caveats in the documentation: http://pandas.pydata.org/pandas-docs/stable/indexing.html#indexing-view-versus-copy\n",
      "  # This is added back by InteractiveShellApp.init_path()\n",
      "D:\\softwares\\Anaconda\\lib\\site-packages\\ipykernel_launcher.py:12: SettingWithCopyWarning: \n",
      "A value is trying to be set on a copy of a slice from a DataFrame.\n",
      "Try using .loc[row_indexer,col_indexer] = value instead\n",
      "\n",
      "See the caveats in the documentation: http://pandas.pydata.org/pandas-docs/stable/indexing.html#indexing-view-versus-copy\n",
      "  if sys.path[0] == '':\n",
      "D:\\softwares\\Anaconda\\lib\\site-packages\\ipykernel_launcher.py:13: SettingWithCopyWarning: \n",
      "A value is trying to be set on a copy of a slice from a DataFrame.\n",
      "Try using .loc[row_indexer,col_indexer] = value instead\n",
      "\n",
      "See the caveats in the documentation: http://pandas.pydata.org/pandas-docs/stable/indexing.html#indexing-view-versus-copy\n",
      "  del sys.path[0]\n"
     ]
    }
   ],
   "source": [
    "# Validation data transformation\n",
    "# Feeding the outlier clipped transformed data into full_pipeline\n",
    "outliers_clipped_val = outlier_pipeline.fit_transform(val_set)\n",
    "taxi_prepared_val = full_pipeline.fit_transform(outliers_clipped_val)\n",
    "\n",
    "# Running the label_pipeline\n",
    "taxi_labels_val = label_pipeline.fit_transform(outliers_clipped_val)"
   ]
  },
  {
   "cell_type": "markdown",
   "metadata": {
    "_uuid": "599060df4a16e9813473d70aba5269ca96152b22"
   },
   "source": [
    "### Training and Model evaluation"
   ]
  },
  {
   "cell_type": "code",
   "execution_count": 78,
   "metadata": {
    "_uuid": "8b93990116847ecde615d9361637a22de5c22c0e"
   },
   "outputs": [
    {
     "name": "stdout",
     "output_type": "stream",
     "text": [
      "[6.53695238 6.64231473 6.01300202 6.84897631 8.39426975]\n",
      "[6.94697599 6.7178047  6.41999493 6.76503898 8.51057132]\n",
      "validation RMSE: 0.3691870719585286\n",
      "[1.45850416e-03 2.37428664e-01 2.57012046e-01 2.15968171e-01\n",
      " 1.90212901e-01 3.34011626e-03 8.56485099e-03 1.87171838e-02\n",
      " 8.13577894e-03 1.92433863e-03 5.44622101e-02 1.24730516e-03\n",
      " 1.50643799e-03 1.41554267e-05 7.33559517e-06]\n"
     ]
    }
   ],
   "source": [
    "# Trying RandomForestRegressor\n",
    "from sklearn.ensemble import RandomForestRegressor\n",
    "from sklearn.metrics import mean_squared_error\n",
    "\n",
    "forest_reg = RandomForestRegressor(n_estimators=100,min_samples_leaf=10, min_samples_split=15, max_features='auto', max_depth=90, bootstrap=True, n_jobs=-1)\n",
    "forest_reg.fit(taxi_prepared, taxi_labels)\n",
    "\n",
    "predictions = forest_reg.predict(taxi_prepared_val)\n",
    "\n",
    "print(predictions[:5])\n",
    "print(taxi_labels_val[:5])\n",
    "\n",
    "score = np.sqrt(mean_squared_error(taxi_labels_val, predictions))\n",
    "print(\"validation RMSE: {}\".format(score))\n",
    "print(forest_reg.feature_importances_)\n",
    "\n",
    "# scores = cross_val_score(forest_reg, taxi_prepared, taxi_labels, scoring='neg_mean_squared_error', cv=5, test_split=0.2)\n",
    "# forest_rmse_scores = np.sqrt(-scores)\n",
    "# print(\"forest_rmse_scores: \", forest_rmse_scores)\n",
    "# print(\"mean forest_rmse_scores: \", forest_rmse_scores.mean())\n",
    "# print(\"std forest_rmse_scores: \", forest_rmse_scores.std())"
   ]
  },
  {
   "cell_type": "code",
   "execution_count": 79,
   "metadata": {
    "_uuid": "91f6decdafbf40a9427987e46600e4489e6ff4d1"
   },
   "outputs": [],
   "source": [
    "test = pd.read_csv(TEST_FILE_PATH, index_col=\"id\", parse_dates=[\"pickup_datetime\"])"
   ]
  },
  {
   "cell_type": "code",
   "execution_count": 80,
   "metadata": {
    "_uuid": "f2c3f97fbfbe06e09b10a6a5848c708d83ca2acc"
   },
   "outputs": [
    {
     "data": {
      "text/html": [
       "<div>\n",
       "<style scoped>\n",
       "    .dataframe tbody tr th:only-of-type {\n",
       "        vertical-align: middle;\n",
       "    }\n",
       "\n",
       "    .dataframe tbody tr th {\n",
       "        vertical-align: top;\n",
       "    }\n",
       "\n",
       "    .dataframe thead th {\n",
       "        text-align: right;\n",
       "    }\n",
       "</style>\n",
       "<table border=\"1\" class=\"dataframe\">\n",
       "  <thead>\n",
       "    <tr style=\"text-align: right;\">\n",
       "      <th></th>\n",
       "      <th>vendor_id</th>\n",
       "      <th>pickup_datetime</th>\n",
       "      <th>passenger_count</th>\n",
       "      <th>pickup_longitude</th>\n",
       "      <th>pickup_latitude</th>\n",
       "      <th>dropoff_longitude</th>\n",
       "      <th>dropoff_latitude</th>\n",
       "      <th>store_and_fwd_flag</th>\n",
       "    </tr>\n",
       "    <tr>\n",
       "      <th>id</th>\n",
       "      <th></th>\n",
       "      <th></th>\n",
       "      <th></th>\n",
       "      <th></th>\n",
       "      <th></th>\n",
       "      <th></th>\n",
       "      <th></th>\n",
       "      <th></th>\n",
       "    </tr>\n",
       "  </thead>\n",
       "  <tbody>\n",
       "    <tr>\n",
       "      <th>id3004672</th>\n",
       "      <td>1</td>\n",
       "      <td>2016-06-30 23:59:58</td>\n",
       "      <td>1</td>\n",
       "      <td>-73.988129</td>\n",
       "      <td>40.732029</td>\n",
       "      <td>-73.990173</td>\n",
       "      <td>40.756680</td>\n",
       "      <td>N</td>\n",
       "    </tr>\n",
       "    <tr>\n",
       "      <th>id3505355</th>\n",
       "      <td>1</td>\n",
       "      <td>2016-06-30 23:59:53</td>\n",
       "      <td>1</td>\n",
       "      <td>-73.964203</td>\n",
       "      <td>40.679993</td>\n",
       "      <td>-73.959808</td>\n",
       "      <td>40.655403</td>\n",
       "      <td>N</td>\n",
       "    </tr>\n",
       "    <tr>\n",
       "      <th>id1217141</th>\n",
       "      <td>1</td>\n",
       "      <td>2016-06-30 23:59:47</td>\n",
       "      <td>1</td>\n",
       "      <td>-73.997437</td>\n",
       "      <td>40.737583</td>\n",
       "      <td>-73.986160</td>\n",
       "      <td>40.729523</td>\n",
       "      <td>N</td>\n",
       "    </tr>\n",
       "    <tr>\n",
       "      <th>id2150126</th>\n",
       "      <td>2</td>\n",
       "      <td>2016-06-30 23:59:41</td>\n",
       "      <td>1</td>\n",
       "      <td>-73.956070</td>\n",
       "      <td>40.771900</td>\n",
       "      <td>-73.986427</td>\n",
       "      <td>40.730469</td>\n",
       "      <td>N</td>\n",
       "    </tr>\n",
       "    <tr>\n",
       "      <th>id1598245</th>\n",
       "      <td>1</td>\n",
       "      <td>2016-06-30 23:59:33</td>\n",
       "      <td>1</td>\n",
       "      <td>-73.970215</td>\n",
       "      <td>40.761475</td>\n",
       "      <td>-73.961510</td>\n",
       "      <td>40.755890</td>\n",
       "      <td>N</td>\n",
       "    </tr>\n",
       "  </tbody>\n",
       "</table>\n",
       "</div>"
      ],
      "text/plain": [
       "           vendor_id     pickup_datetime  passenger_count  pickup_longitude  \\\n",
       "id                                                                            \n",
       "id3004672          1 2016-06-30 23:59:58                1        -73.988129   \n",
       "id3505355          1 2016-06-30 23:59:53                1        -73.964203   \n",
       "id1217141          1 2016-06-30 23:59:47                1        -73.997437   \n",
       "id2150126          2 2016-06-30 23:59:41                1        -73.956070   \n",
       "id1598245          1 2016-06-30 23:59:33                1        -73.970215   \n",
       "\n",
       "           pickup_latitude  dropoff_longitude  dropoff_latitude  \\\n",
       "id                                                                \n",
       "id3004672        40.732029         -73.990173         40.756680   \n",
       "id3505355        40.679993         -73.959808         40.655403   \n",
       "id1217141        40.737583         -73.986160         40.729523   \n",
       "id2150126        40.771900         -73.986427         40.730469   \n",
       "id1598245        40.761475         -73.961510         40.755890   \n",
       "\n",
       "          store_and_fwd_flag  \n",
       "id                            \n",
       "id3004672                  N  \n",
       "id3505355                  N  \n",
       "id1217141                  N  \n",
       "id2150126                  N  \n",
       "id1598245                  N  "
      ]
     },
     "execution_count": 80,
     "metadata": {},
     "output_type": "execute_result"
    }
   ],
   "source": [
    "test.head()"
   ]
  },
  {
   "cell_type": "code",
   "execution_count": 81,
   "metadata": {
    "_uuid": "e7ea5c6bad167d4f26c355882fa282ab774ac78e"
   },
   "outputs": [
    {
     "data": {
      "image/png": "[encoded data removed]",
      "text/plain": [
       "<Figure size 432x288 with 1 Axes>"
      ]
     },
     "metadata": {},
     "output_type": "display_data"
    },
    {
     "name": "stderr",
     "output_type": "stream",
     "text": [
      "D:\\softwares\\Anaconda\\lib\\site-packages\\ipykernel_launcher.py:11: SettingWithCopyWarning: \n",
      "A value is trying to be set on a copy of a slice from a DataFrame.\n",
      "Try using .loc[row_indexer,col_indexer] = value instead\n",
      "\n",
      "See the caveats in the documentation: http://pandas.pydata.org/pandas-docs/stable/indexing.html#indexing-view-versus-copy\n",
      "  # This is added back by InteractiveShellApp.init_path()\n"
     ]
    },
    {
     "name": "stdout",
     "output_type": "stream",
     "text": [
      "(625134, 15)\n"
     ]
    }
   ],
   "source": [
    "outliers_clipped_test = outlier_pipeline.fit_transform(test)\n",
    "test_prepared = full_pipeline.fit_transform(test)\n",
    "print(test_prepared.shape)"
   ]
  },
  {
   "cell_type": "code",
   "execution_count": 82,
   "metadata": {
    "_uuid": "44d9e002049b1b10f290f40dcfad4700562dfe9b"
   },
   "outputs": [],
   "source": [
    "pred_test = np.exp(forest_reg.predict(test_prepared))"
   ]
  },
  {
   "cell_type": "markdown",
   "metadata": {
    "_uuid": "cec2d8e482c6bf131e002fc0e9d6e8627f98c578"
   },
   "source": [
    "#### Submission"
   ]
  },
  {
   "cell_type": "code",
   "execution_count": 83,
   "metadata": {
    "_uuid": "c63482d157f015188c872e349301ffb2a53ed23e"
   },
   "outputs": [
    {
     "data": {
      "text/html": [
       "<div>\n",
       "<style scoped>\n",
       "    .dataframe tbody tr th:only-of-type {\n",
       "        vertical-align: middle;\n",
       "    }\n",
       "\n",
       "    .dataframe tbody tr th {\n",
       "        vertical-align: top;\n",
       "    }\n",
       "\n",
       "    .dataframe thead th {\n",
       "        text-align: right;\n",
       "    }\n",
       "</style>\n",
       "<table border=\"1\" class=\"dataframe\">\n",
       "  <thead>\n",
       "    <tr style=\"text-align: right;\">\n",
       "      <th></th>\n",
       "      <th>id</th>\n",
       "      <th>trip_duration</th>\n",
       "    </tr>\n",
       "  </thead>\n",
       "  <tbody>\n",
       "    <tr>\n",
       "      <th>0</th>\n",
       "      <td>id3004672</td>\n",
       "      <td>959</td>\n",
       "    </tr>\n",
       "    <tr>\n",
       "      <th>1</th>\n",
       "      <td>id3505355</td>\n",
       "      <td>959</td>\n",
       "    </tr>\n",
       "    <tr>\n",
       "      <th>2</th>\n",
       "      <td>id1217141</td>\n",
       "      <td>959</td>\n",
       "    </tr>\n",
       "    <tr>\n",
       "      <th>3</th>\n",
       "      <td>id2150126</td>\n",
       "      <td>959</td>\n",
       "    </tr>\n",
       "    <tr>\n",
       "      <th>4</th>\n",
       "      <td>id1598245</td>\n",
       "      <td>959</td>\n",
       "    </tr>\n",
       "  </tbody>\n",
       "</table>\n",
       "</div>"
      ],
      "text/plain": [
       "          id  trip_duration\n",
       "0  id3004672            959\n",
       "1  id3505355            959\n",
       "2  id1217141            959\n",
       "3  id2150126            959\n",
       "4  id1598245            959"
      ]
     },
     "execution_count": 83,
     "metadata": {},
     "output_type": "execute_result"
    }
   ],
   "source": [
    "submit = pd.read_csv(SAMPLE_SUB_FILE_PATH)\n",
    "submit.head()"
   ]
  },
  {
   "cell_type": "code",
   "execution_count": 84,
   "metadata": {
    "_uuid": "4cc4ba42775ab970682bacd2ab2f480b83c57a2d"
   },
   "outputs": [
    {
     "data": {
      "text/html": [
       "<div>\n",
       "<style scoped>\n",
       "    .dataframe tbody tr th:only-of-type {\n",
       "        vertical-align: middle;\n",
       "    }\n",
       "\n",
       "    .dataframe tbody tr th {\n",
       "        vertical-align: top;\n",
       "    }\n",
       "\n",
       "    .dataframe thead th {\n",
       "        text-align: right;\n",
       "    }\n",
       "</style>\n",
       "<table border=\"1\" class=\"dataframe\">\n",
       "  <thead>\n",
       "    <tr style=\"text-align: right;\">\n",
       "      <th></th>\n",
       "      <th>id</th>\n",
       "      <th>trip_duration</th>\n",
       "    </tr>\n",
       "  </thead>\n",
       "  <tbody>\n",
       "    <tr>\n",
       "      <th>0</th>\n",
       "      <td>id3004672</td>\n",
       "      <td>737.442896</td>\n",
       "    </tr>\n",
       "    <tr>\n",
       "      <th>1</th>\n",
       "      <td>id3505355</td>\n",
       "      <td>621.981868</td>\n",
       "    </tr>\n",
       "    <tr>\n",
       "      <th>2</th>\n",
       "      <td>id1217141</td>\n",
       "      <td>514.440735</td>\n",
       "    </tr>\n",
       "    <tr>\n",
       "      <th>3</th>\n",
       "      <td>id2150126</td>\n",
       "      <td>1029.827885</td>\n",
       "    </tr>\n",
       "    <tr>\n",
       "      <th>4</th>\n",
       "      <td>id1598245</td>\n",
       "      <td>331.124786</td>\n",
       "    </tr>\n",
       "  </tbody>\n",
       "</table>\n",
       "</div>"
      ],
      "text/plain": [
       "          id  trip_duration\n",
       "0  id3004672     737.442896\n",
       "1  id3505355     621.981868\n",
       "2  id1217141     514.440735\n",
       "3  id2150126    1029.827885\n",
       "4  id1598245     331.124786"
      ]
     },
     "execution_count": 84,
     "metadata": {},
     "output_type": "execute_result"
    }
   ],
   "source": [
    "submit[\"trip_duration\"] = pred_test\n",
    "submit.head()"
   ]
  },
  {
   "cell_type": "code",
   "execution_count": 85,
   "metadata": {
    "_uuid": "c7d9e1217149e530df04eff17f6ea123bde923c1"
   },
   "outputs": [],
   "source": [
    "submit.to_csv(\"submission.csv\", index=False)"
   ]
  },
  {
   "cell_type": "code",
   "execution_count": null,
   "metadata": {},
   "outputs": [],
   "source": []
  }
 ],
 "metadata": {
  "kernelspec": {
   "display_name": "Python 3",
   "language": "python",
   "name": "python3"
  },
  "language_info": {
   "codemirror_mode": {
    "name": "ipython",
    "version": 3
   },
   "file_extension": ".py",
   "mimetype": "text/x-python",
   "name": "python",
   "nbconvert_exporter": "python",
   "pygments_lexer": "ipython3",
   "version": "3.6.5"
  }
 },
 "nbformat": 4,
 "nbformat_minor": 1
}
